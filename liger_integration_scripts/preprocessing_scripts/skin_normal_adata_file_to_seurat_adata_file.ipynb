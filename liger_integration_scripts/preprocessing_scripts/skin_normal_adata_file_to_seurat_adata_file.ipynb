{
 "cells": [
  {
   "cell_type": "code",
   "execution_count": 2,
   "id": "yellow-industry",
   "metadata": {},
   "outputs": [
    {
     "name": "stderr",
     "output_type": "stream",
     "text": [
      "/dss/dsshome1/lxc02/di82cox/anaconda3/envs/oldanndata/lib/python3.8/site-packages/anndata/core/anndata.py:17: FutureWarning: pandas.core.index is deprecated and will be removed in a future version.  The public classes are available in the top-level namespace.\n",
      "  from pandas.core.index import RangeIndex\n"
     ]
    }
   ],
   "source": [
    "import scipy.sparse\n",
    "import anndata as ad\n",
    "import pandas as pd\n",
    "from scipy import sparse\n",
    "import scipy.sparse\n",
    "from scipy.sparse import csr_matrix"
   ]
  },
  {
   "cell_type": "code",
   "execution_count": 3,
   "id": "legal-layout",
   "metadata": {},
   "outputs": [
    {
     "data": {
      "text/plain": [
       "'0.6.22.post1'"
      ]
     },
     "execution_count": 3,
     "metadata": {},
     "output_type": "execute_result"
    }
   ],
   "source": [
    "#make sure anndata version is 0.6.22.post1 , otherwise seurat isnt able to read the h5ad file, issue https://github.com/satijalab/seurat/issues/2485 \n",
    "ad.__version__"
   ]
  },
  {
   "cell_type": "code",
   "execution_count": 4,
   "id": "grand-value",
   "metadata": {},
   "outputs": [],
   "source": [
    "rootdir=\"/dss/dsshome1/lxc02/di82cox/code/sheetal/skin_preprocessed_rna/\""
   ]
  },
  {
   "cell_type": "code",
   "execution_count": 5,
   "id": "downtown-ontario",
   "metadata": {},
   "outputs": [],
   "source": [
    "#read all the data\n",
    "sparse = scipy.sparse.load_npz(rootdir+'sparse_matrix.npz')\n",
    "obs = pd.read_csv(rootdir + \"obs.csv\", index_col=0)\n",
    "var = pd.read_csv(rootdir + \"var.csv\", index_col=0)"
   ]
  },
  {
   "cell_type": "code",
   "execution_count": 6,
   "id": "deluxe-comparative",
   "metadata": {},
   "outputs": [],
   "source": [
    "adata = ad.AnnData(X=sparse, obs=obs, var=var)\n",
    "adata.X = csr_matrix(adata.X) # convert the sparse matrix to csr"
   ]
  },
  {
   "cell_type": "code",
   "execution_count": 8,
   "id": "sitting-objective",
   "metadata": {},
   "outputs": [],
   "source": [
    "#save the anndata in the \"good\" format for seurat\n",
    "adata.write(rootdir + \"skin_preprocessed_rna.h5ad\")"
   ]
  },
  {
   "cell_type": "code",
   "execution_count": null,
   "id": "hourly-position",
   "metadata": {},
   "outputs": [],
   "source": [
    "#In R Run the following to create RDS file\n",
    "#library(Seurat)\n",
    "#rna <- Seurat::ReadH5AD(\"/dss/dsshome1/lxc02/di82cox/code/sheetal/skin_preprocessed_rna/skin_preprocessed_rna2.h5ad\", assay = \"RNA\", layers = \"data\")\n",
    "#saveRDS(rna,\"skin_rna_processed.rds\")        "
   ]
  }
 ],
 "metadata": {
  "kernelspec": {
   "display_name": "Python 3",
   "language": "python",
   "name": "python3"
  },
  "language_info": {
   "codemirror_mode": {
    "name": "ipython",
    "version": 3
   },
   "file_extension": ".py",
   "mimetype": "text/x-python",
   "name": "python",
   "nbconvert_exporter": "python",
   "pygments_lexer": "ipython3",
   "version": "3.8.8"
  }
 },
 "nbformat": 4,
 "nbformat_minor": 5
}
